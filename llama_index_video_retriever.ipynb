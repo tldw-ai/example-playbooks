{
  "cells": [
    {
      "cell_type": "markdown",
      "metadata": {},
      "source": [
        "# TL;DW Video Retriever for LlamaIndex\n",
        "\n",
        "## Introduction\n",
        "\n",
        "This notebook demonstrates how to use **TL;DW**, a powerful video understanding API, to retrieve precise moments from videos using natural language queries. By integrating **TL;DW** with **LlamaIndex**, we can efficiently index and search video content, enabling seamless knowledge retrieval from videos.\n",
        "\n",
        "In this example, you'll see how to:\n",
        "\n",
        "✅ Install dependencies of tldw retriever\n",
        "\n",
        "✅ Perform natural language queries to retrieval knowledge from a collection of videos\n",
        "\n",
        "This setup makes it easy to build AI-powered video search tools that allow users to ask questions and get direct references to specific video moments. 🚀"
      ]
    },
    {
      "cell_type": "markdown",
      "metadata": {},
      "source": [
        "## Setup Environment"
      ]
    },
    {
      "cell_type": "code",
      "execution_count": null,
      "metadata": {},
      "outputs": [],
      "source": [
        "import os\n",
        "\n",
        "# Set API keys\n",
        "os.environ[\"OPENAI_API_KEY\"] = \"\"  # Replace with your OpenAI API key\n",
        "TLDW_API_KEY = \"\"  # Replace with your TL;DW API key"
      ]
    },
    {
      "cell_type": "code",
      "execution_count": null,
      "metadata": {},
      "outputs": [],
      "source": [
        "%pip install llama-index\n",
        "%pip install llama-index-retrievers-tldw"
      ]
    },
    {
      "cell_type": "markdown",
      "metadata": {},
      "source": [
        "## Import and Initialize TL;DW Retriever"
      ]
    },
    {
      "cell_type": "code",
      "execution_count": null,
      "metadata": {},
      "outputs": [],
      "source": [
        "from llama_index.retrievers.tldw import TldwRetriever\n",
        "from llama_index.core.query_engine import RetrieverQueryEngine\n",
        "\n",
        "# Initialize the TL;DW Retriever with your collection ID\n",
        "retriever = TldwRetriever(\n",
        "    api_key=TLDW_API_KEY,\n",
        "    collection_id='25288765-f90e-4c12-bfa6-6c195cce83aa'  # Replace example collection with your collection ID\n",
        ")\n",
        "\n",
        "# Create a query engine using the retriever\n",
        "query_engine = RetrieverQueryEngine(\n",
        "    retriever=retriever,\n",
        ")"
      ]
    },
    {
      "cell_type": "markdown",
      "metadata": {},
      "source": [
        "## Query the Video Knowledge Base"
      ]
    },
    {
      "cell_type": "code",
      "execution_count": null,
      "metadata": {},
      "outputs": [
        {
          "name": "stdout",
          "output_type": "stream",
          "text": [
            "The brands of smartwatches reviewed in the videos are Apple and Garmin.\n"
          ]
        }
      ],
      "source": [
        "# Example natural language query\n",
        "query = \"What are the brands of smart watches reviewed?\"\n",
        "response = query_engine.query(query)\n",
        "\n",
        "# Print the retrieved response\n",
        "print(response)"
      ]
    }
  ],
  "metadata": {
    "kernelspec": {
      "display_name": "Python 3",
      "language": "python",
      "name": "python3"
    },
    "language_info": {
      "codemirror_mode": {
        "name": "ipython",
        "version": 3
      },
      "file_extension": ".py",
      "mimetype": "text/x-python",
      "name": "python",
      "nbconvert_exporter": "python",
      "pygments_lexer": "ipython3",
      "version": "3.8"
    }
  },
  "nbformat": 4,
  "nbformat_minor": 2
}
