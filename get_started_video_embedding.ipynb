{
  "cells": [
    {
      "cell_type": "markdown",
      "metadata": {},
      "source": [
        "<a target=\"_blank\" href=\"https://colab.research.google.com/github/tldw-ai/example-playbooks/blob/main/get_started_video_embedding.ipynb\">\n",
        "  <img src=\"https://colab.research.google.com/assets/colab-badge.svg\" alt=\"Open In Colab\"/>\n",
        "</a>"
      ]
    },
    {
      "cell_type": "markdown",
      "metadata": {
        "id": "uBHssz8Z-3Vl"
      },
      "source": [
        "step #1: Submit videos to for embedding\n"
      ]
    },
    {
      "cell_type": "code",
      "execution_count": null,
      "metadata": {
        "id": "Js0Aky3k5WP0"
      },
      "outputs": [],
      "source": [
        "# Get API key from `https://trytldw.ai/account?tab=api`\n",
        "API_KEY = ''  # Insert API key here!!!\n",
        "API_ENDPOINT = 'https://api.trytldw.ai/v1'\n",
        "\n",
        "headers = {\n",
        "    'Authorization': f'Bearer {API_KEY}',\n",
        "}"
      ]
    },
    {
      "cell_type": "code",
      "execution_count": null,
      "metadata": {
        "colab": {
          "base_uri": "https://localhost:8080/"
        },
        "id": "hOq-gTya-1ld",
        "outputId": "0e8172e5-78d6-4209-8a65-1d89d56383f2"
      },
      "outputs": [
        {
          "name": "stdout",
          "output_type": "stream",
          "text": [
            "[{'id': 'b653fbda-a7a9-4f7b-90e3-8a62537507dd', 'external_id': 'video_0', 'status': 'PENDING'}, {'id': 'f5abb9d3-282f-4236-a42b-de2c62846a3e', 'external_id': 'video_1', 'status': 'PENDING'}, {'id': 'ab68c9f4-8ee9-44e5-a370-c40882e227a2', 'external_id': 'video_2', 'status': 'PENDING'}]\n"
          ]
        }
      ],
      "source": [
        "import requests\n",
        "\n",
        "# API reference: https://docs.trytldw.ai/tldw/embed-media-media-embed-post\n",
        "res = requests.post(f'{API_ENDPOINT}/media/embed', headers=headers, json={\n",
        "    'media_list': [\n",
        "        {\n",
        "            'title': 'Destroyed Building',\n",
        "            'external_id': 'video_0',\n",
        "            'url': 'https://storage.googleapis.com/test-only-public/Aerial%20footage%20shows%20the%20destruction%20in%20Asheville%20and%20parts%20of%20western%20North%20Carolina%20%5BiLlebC7vuJw%5D.webm'\n",
        "        },\n",
        "        {\n",
        "            'title': 'Explosion',\n",
        "            'external_id': 'video_1',\n",
        "            'url': 'https://storage.googleapis.com/test-only-public/Drone%20video%20shows%20deadly%20fireworks%20explosion%20in%20the%20Honolulu%20area%20%5BQbbXlMyq3Cs%5D.webm'\n",
        "        },\n",
        "        {\n",
        "            'title': 'Wildfire Smoke',\n",
        "            'external_id': 'video_2',\n",
        "            'url': 'https://storage.googleapis.com/test-only-public/Watch%20from%20above%EF%BC%9A%20Aerial%20footage%20of%20natural%20disasters%20in%202017%20%5BmKWq9m3rkTU%5D.mp4'\n",
        "        }\n",
        "    ]\n",
        "})\n",
        "\n",
        "print(res.json()['media_list'])\n",
        "media_ids = [media['id'] for media in res.json()['media_list']]"
      ]
    },
    {
      "cell_type": "markdown",
      "metadata": {
        "id": "3uCIoEJHGiIu"
      },
      "source": [
        "step #3: Wait until all media are in completed state\n"
      ]
    },
    {
      "cell_type": "code",
      "execution_count": null,
      "metadata": {
        "colab": {
          "base_uri": "https://localhost:8080/"
        },
        "id": "7J0RU6C9Gui-",
        "outputId": "07bfe42a-5b1f-46f4-8fa2-32cf7bcc1289"
      },
      "outputs": [
        {
          "name": "stdout",
          "output_type": "stream",
          "text": [
            "All media are in COMPLETED state.\n"
          ]
        }
      ],
      "source": [
        "import time\n",
        "import requests\n",
        "\n",
        "# media_ids = ['5e5f88f5-80cb-43a2-997c-94db0fba5828', 'a715c8c3-f18f-4654-a336-ecaf214b2ccf', '7c0fcef3-b5b4-4010-9a93-eaa9f78ad067']\n",
        "POLL_INTERVAL_SECONDS = 5\n",
        "\n",
        "\n",
        "def wait_for_processing_completes(media_ids, headers):\n",
        "    # Create a copy to avoid mutating the original list\n",
        "    pending_media = set(media_ids)\n",
        "\n",
        "    while pending_media:\n",
        "        # Create a list to avoid modifying set during iteration\n",
        "        for media_id in list(pending_media):\n",
        "            # API reference: https://docs.trytldw.ai/tldw/get-media-media-media-id-get\n",
        "            response = requests.get(\n",
        "                f'{API_ENDPOINT}/media/{media_id}', headers=headers)\n",
        "            status = response.json().get('status', 'UNKNOWN')\n",
        "\n",
        "            if status == 'COMPLETED':\n",
        "                pending_media.remove(media_id)\n",
        "\n",
        "        if not pending_media:\n",
        "            print('All media are in COMPLETED state.')\n",
        "            break\n",
        "\n",
        "        print('Waiting for remaining media to reach COMPLETED state...')\n",
        "        time.sleep(POLL_INTERVAL_SECONDS)\n",
        "\n",
        "\n",
        "wait_for_processing_completes(media_ids, headers)"
      ]
    },
    {
      "cell_type": "markdown",
      "metadata": {
        "id": "s3UYY5wcwDfO"
      },
      "source": [
        "step #4: Retrieve embedding for videos\n"
      ]
    },
    {
      "cell_type": "code",
      "execution_count": null,
      "metadata": {
        "colab": {
          "base_uri": "https://localhost:8080/"
        },
        "id": "PCvuG48ZwI8a",
        "outputId": "48f971ba-2f8f-4538-e09b-371a6d549845"
      },
      "outputs": [
        {
          "name": "stdout",
          "output_type": "stream",
          "text": [
            "[\n",
            "  {\n",
            "    \"id\": \"b653fbda-a7a9-4f7b-90e3-8a62537507dd\",\n",
            "    \"external_id\": \"Destroyed Building\",\n",
            "    \"status\": \"COMPLETED\",\n",
            "    \"collection_id\": null,\n",
            "    \"title\": \"Destroyed Building\",\n",
            "    \"embeddings\": [\n",
            "      {\n",
            "        \"start_ms\": 0,\n",
            "        \"end_ms\": 2000,\n",
            "        \"embedding\": [\n",
            "          0.057333193719387054,\n",
            "          0.006780697964131832,\n",
            "          -0.038048598915338516,\n",
            "          0.045717742294073105,\n",
            "          0.057266347110271454\n",
            "        ]\n",
            "      },\n",
            "      {\n",
            "        \"start_ms\": 2000,\n",
            "        \"end_ms\": 4000,\n",
            "        \"embedding\": [\n",
            "          0.058070261031389236,\n",
            "          0.004891926888376474,\n",
            "          -0.04078308492898941,\n",
            "          0.044884152710437775,\n",
            "          0.05748013034462929\n",
            "        ]\n",
            "      },\n",
            "      {\n",
            "        \"start_ms\": 4000,\n",
            "        \"end_ms\": 6000,\n",
            "        \"embedding\": [\n",
            "          0.017752336338162422,\n",
            "          0.02872983179986477,\n",
            "          -0.02223474159836769,\n",
            "          0.09323515743017197,\n",
            "          0.07714306563138962\n",
            "        ]\n",
            "      },\n",
            "      {\n",
            "        \"start_ms\": 6000,\n",
            "        \"end_ms\": 8000,\n",
            "        \"embedding\": [\n",
            "          0.01500655896961689,\n",
            "          0.020830439403653145,\n",
            "          -0.02230246551334858,\n",
            "          0.08506621420383453,\n",
            "          0.07422776520252228\n",
            "        ]\n",
            "      },\n",
            "      {\n",
            "        \"start_ms\": 8000,\n",
            "        \"end_ms\": 10000,\n",
            "        \"embedding\": [\n",
            "          0.026919355615973473,\n",
            "          0.03223797306418419,\n",
            "          -0.01913760043680668,\n",
            "          0.10384847968816757,\n",
            "          0.0782390832901001\n",
            "        ]\n",
            "      }\n",
            "    ]\n",
            "  },\n",
            "  {\n",
            "    \"id\": \"f5abb9d3-282f-4236-a42b-de2c62846a3e\",\n",
            "    \"external_id\": \"Explosion\",\n",
            "    \"status\": \"COMPLETED\",\n",
            "    \"collection_id\": null,\n",
            "    \"title\": \"Explosion\",\n",
            "    \"embeddings\": [\n",
            "      {\n",
            "        \"start_ms\": 0,\n",
            "        \"end_ms\": 2000,\n",
            "        \"embedding\": [\n",
            "          0.047517213970422745,\n",
            "          0.031245632097125053,\n",
            "          -0.05299435183405876,\n",
            "          0.018059054389595985,\n",
            "          0.021872125566005707\n",
            "        ]\n",
            "      },\n",
            "      {\n",
            "        \"start_ms\": 2000,\n",
            "        \"end_ms\": 4000,\n",
            "        \"embedding\": [\n",
            "          0.04243876785039902,\n",
            "          0.028211982920765877,\n",
            "          -0.048089127987623215,\n",
            "          0.019774913787841797,\n",
            "          0.026954911649227142\n",
            "        ]\n",
            "      },\n",
            "      {\n",
            "        \"start_ms\": 4000,\n",
            "        \"end_ms\": 6000,\n",
            "        \"embedding\": [\n",
            "          0.03602366894483566,\n",
            "          0.023693600669503212,\n",
            "          -0.041188597679138184,\n",
            "          0.03418956696987152,\n",
            "          0.019873661920428276\n",
            "        ]\n",
            "      },\n",
            "      {\n",
            "        \"start_ms\": 6000,\n",
            "        \"end_ms\": 8000,\n",
            "        \"embedding\": [\n",
            "          0.03188863396644592,\n",
            "          0.017308995127677917,\n",
            "          -0.04792927950620651,\n",
            "          0.03817201405763626,\n",
            "          0.047742657363414764\n",
            "        ]\n",
            "      },\n",
            "      {\n",
            "        \"start_ms\": 8000,\n",
            "        \"end_ms\": 10000,\n",
            "        \"embedding\": [\n",
            "          0.03036969155073166,\n",
            "          0.019187362864613533,\n",
            "          -0.053446099162101746,\n",
            "          0.03858192265033722,\n",
            "          0.04305627569556236\n",
            "        ]\n",
            "      }\n",
            "    ]\n",
            "  },\n",
            "  {\n",
            "    \"id\": \"ab68c9f4-8ee9-44e5-a370-c40882e227a2\",\n",
            "    \"external_id\": \"Wildfire Smoke\",\n",
            "    \"status\": \"COMPLETED\",\n",
            "    \"collection_id\": null,\n",
            "    \"title\": \"Wildfire Smoke\",\n",
            "    \"embeddings\": [\n",
            "      {\n",
            "        \"start_ms\": 0,\n",
            "        \"end_ms\": 2000,\n",
            "        \"embedding\": [\n",
            "          0.030269840732216835,\n",
            "          0.037581346929073334,\n",
            "          -0.0018744621193036437,\n",
            "          0.04072605445981026,\n",
            "          0.024423619732260704\n",
            "        ]\n",
            "      },\n",
            "      {\n",
            "        \"start_ms\": 2000,\n",
            "        \"end_ms\": 4000,\n",
            "        \"embedding\": [\n",
            "          0.03362218290567398,\n",
            "          0.06021450459957123,\n",
            "          -0.0009059854201041162,\n",
            "          0.07309367507696152,\n",
            "          0.0415872186422348\n",
            "        ]\n",
            "      },\n",
            "      {\n",
            "        \"start_ms\": 4000,\n",
            "        \"end_ms\": 6000,\n",
            "        \"embedding\": [\n",
            "          0.026431357488036156,\n",
            "          0.038977257907390594,\n",
            "          -0.006771900691092014,\n",
            "          0.08471754193305969,\n",
            "          0.03808685392141342\n",
            "        ]\n",
            "      },\n",
            "      {\n",
            "        \"start_ms\": 6000,\n",
            "        \"end_ms\": 8000,\n",
            "        \"embedding\": [\n",
            "          0.025916891172528267,\n",
            "          0.027904003858566284,\n",
            "          -0.0034076508600264788,\n",
            "          0.08367519825696945,\n",
            "          0.03538680076599121\n",
            "        ]\n",
            "      },\n",
            "      {\n",
            "        \"start_ms\": 8000,\n",
            "        \"end_ms\": 10000,\n",
            "        \"embedding\": [\n",
            "          0.029041292145848274,\n",
            "          0.026357531547546387,\n",
            "          -0.00989377312362194,\n",
            "          0.07581540942192078,\n",
            "          0.03409325331449509\n",
            "        ]\n",
            "      }\n",
            "    ]\n",
            "  }\n",
            "]\n"
          ]
        }
      ],
      "source": [
        "import json\n",
        "media_embedding = []\n",
        "\n",
        "for media_id in media_ids:\n",
        "    # API reference: https://docs.trytldw.ai/tldw/get-media-media-media-id-get\n",
        "    response = requests.get(\n",
        "        f'{API_ENDPOINT}/media/{media_id}?retrieve_embedding=true', headers=headers)\n",
        "    media_embedding.append(response.json())\n",
        "\n",
        "# Inspect embedding (only print first 5 dimensions of each embedding)\n",
        "inspect_embedding = [{\n",
        "    **item,\n",
        "    \"embeddings\": [{**embedding, \"embedding\": embedding[\"embedding\"][:5]} for embedding in item.get(\"embeddings\", [])[:5]]\n",
        "} for item in media_embedding]\n",
        "print(json.dumps(inspect_embedding, indent=2))"
      ]
    },
    {
      "cell_type": "markdown",
      "metadata": {
        "id": "YumFPT_FnOt-"
      },
      "source": [
        "step #5: Generate embedding from text query\n"
      ]
    },
    {
      "cell_type": "code",
      "execution_count": null,
      "metadata": {
        "colab": {
          "base_uri": "https://localhost:8080/"
        },
        "id": "Psx0-1hpnOWM",
        "outputId": "fec664fd-c8b9-448b-ea6e-f923e50a33c1"
      },
      "outputs": [
        {
          "name": "stdout",
          "output_type": "stream",
          "text": [
            "[-0.04794558510184288, 0.049645740538835526, 0.02569637820124626, 0.038467127829790115, -0.016627313569188118, 0.028614701703190804, -0.05325068533420563, 0.015509650111198425, 0.06710607558488846, 0.049288492649793625]\n"
          ]
        }
      ],
      "source": [
        "# API reference: https://docs.trytldw.ai/tldw/embed-text-text-embed-post\n",
        "res = requests.post(f'{API_ENDPOINT}/text/embed', headers=headers, json={\n",
        "    'text': \"building collapsed\"\n",
        "})\n",
        "\n",
        "text_embedding = res.json()['embedding']\n",
        "# Print first 10 dimensions of text embedding\n",
        "print(text_embedding[:10])"
      ]
    },
    {
      "cell_type": "markdown",
      "metadata": {
        "id": "efJQk4C3nwwi"
      },
      "source": [
        "step #6: Find video segements with closest distance to text embedding\n"
      ]
    },
    {
      "cell_type": "code",
      "execution_count": null,
      "metadata": {
        "colab": {
          "base_uri": "https://localhost:8080/"
        },
        "id": "hx8GshXqnzHK",
        "outputId": "3899f47f-8f5e-407e-fdde-19ee42f0f845"
      },
      "outputs": [
        {
          "name": "stdout",
          "output_type": "stream",
          "text": [
            "[\n",
            "  {\n",
            "    \"external_id\": \"Destroyed Building\",\n",
            "    \"title\": \"Destroyed Building\",\n",
            "    \"segment_start_ms\": 70000,\n",
            "    \"segment_end_ms\": 72000,\n",
            "    \"similarity\": 0.3690587971955406\n",
            "  },\n",
            "  {\n",
            "    \"external_id\": \"Destroyed Building\",\n",
            "    \"title\": \"Destroyed Building\",\n",
            "    \"segment_start_ms\": 72000,\n",
            "    \"segment_end_ms\": 74000,\n",
            "    \"similarity\": 0.36605721396028484\n",
            "  },\n",
            "  {\n",
            "    \"external_id\": \"Destroyed Building\",\n",
            "    \"title\": \"Destroyed Building\",\n",
            "    \"segment_start_ms\": 68000,\n",
            "    \"segment_end_ms\": 70000,\n",
            "    \"similarity\": 0.36581484976292433\n",
            "  },\n",
            "  {\n",
            "    \"external_id\": \"Destroyed Building\",\n",
            "    \"title\": \"Destroyed Building\",\n",
            "    \"segment_start_ms\": 256000,\n",
            "    \"segment_end_ms\": 258000,\n",
            "    \"similarity\": 0.3633373006543512\n",
            "  },\n",
            "  {\n",
            "    \"external_id\": \"Destroyed Building\",\n",
            "    \"title\": \"Destroyed Building\",\n",
            "    \"segment_start_ms\": 244000,\n",
            "    \"segment_end_ms\": 246000,\n",
            "    \"similarity\": 0.361978773623242\n",
            "  }\n",
            "]\n"
          ]
        }
      ],
      "source": [
        "import numpy as np\n",
        "import json\n",
        "\n",
        "\n",
        "def cosine_similarity(a, b):\n",
        "    return np.dot(a, b) / (np.linalg.norm(a) * np.linalg.norm(b))\n",
        "\n",
        "\n",
        "# Convert text_embedding to numpy array once to avoid repeated conversions\n",
        "text_embedding = np.array(text_embedding)\n",
        "\n",
        "closest_segments = []\n",
        "\n",
        "for media in media_embedding:\n",
        "    # Updated to match your provided structure\n",
        "    for embedding in media.get('embeddings', []):\n",
        "        segment_embedding = np.array(embedding.get(\n",
        "            'embedding', []))  # Convert to numpy array\n",
        "        if segment_embedding.size > 0:  # Ensure it's non-empty\n",
        "            similarity = cosine_similarity(text_embedding, segment_embedding)\n",
        "            closest_segments.append({\n",
        "                'external_id': media['external_id'],\n",
        "                'title': media['title'],\n",
        "                'segment_start_ms': embedding['start_ms'],\n",
        "                'segment_end_ms': embedding['end_ms'],\n",
        "                'similarity': similarity\n",
        "            })\n",
        "        else:\n",
        "            print(\n",
        "                f\"Warning: No embedding found for segment in media {media['id']}\")\n",
        "\n",
        "# Sort by similarity (descending order)\n",
        "closest_segments.sort(key=lambda x: x['similarity'], reverse=True)\n",
        "\n",
        "print(json.dumps(closest_segments[:5], indent=2))"
      ]
    }
  ],
  "metadata": {
    "colab": {
      "provenance": []
    },
    "kernelspec": {
      "display_name": "Python 3",
      "name": "python3"
    },
    "language_info": {
      "name": "python"
    }
  },
  "nbformat": 4,
  "nbformat_minor": 0
}
